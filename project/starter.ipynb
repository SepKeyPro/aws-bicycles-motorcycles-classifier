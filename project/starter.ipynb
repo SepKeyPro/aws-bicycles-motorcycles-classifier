{
 "cells": [
  {
   "cell_type": "markdown",
   "metadata": {},
   "source": [
    "# Deploy and monitor a machine learning workflow for Image Classification"
   ]
  },
  {
   "cell_type": "markdown",
   "metadata": {},
   "source": [
    "## Setting up this notebook\n",
    "\n",
    "Notes about the instance size and kernel setup: this notebook has been tested on\n",
    "\n",
    "1. The `Python 3 (Data Science)` kernel\n",
    "2. The `ml.t3.medium` Sagemaker notebook instance\n",
    "\n",
    "## Data Staging\n",
    "\n",
    "We'll use a sample dataset called CIFAR to simulate the challenges Scones Unlimited are facing in Image Classification. In order to start working with CIFAR we'll need to:\n",
    "\n",
    "1. Extract the data from a hosting service\n",
    "2. Transform it into a usable shape and format\n",
    "3. Load it into a production system\n",
    "\n",
    "In other words, we're going to do some simple ETL!\n",
    "\n",
    "### 1. Extract the data from the hosting service\n",
    "\n",
    "In the cell below, define a function `extract_cifar_data` that extracts python version of the CIFAR-100 dataset. The CIFAR dataaset is open source and generously hosted by the University of Toronto at: https://www.cs.toronto.edu/~kriz/cifar-100-python.tar.gz "
   ]
  },
  {
   "cell_type": "code",
   "execution_count": 2,
   "metadata": {
    "tags": []
   },
   "outputs": [],
   "source": [
    "import requests\n",
    "\n",
    "def extract_cifar_data(url, filename=\"cifar.tar.gz\"):\n",
    "    \"\"\"A function for extracting the CIFAR-100 dataset and storing it as a gzipped file\n",
    "    \n",
    "    Arguments:\n",
    "    url      -- the URL where the dataset is hosted\n",
    "    filename -- the full path where the dataset will be written\n",
    "    \n",
    "    \"\"\"\n",
    "    \n",
    "    # Todo: request the data from the data url\n",
    "    # Hint: use `requests.get` method\n",
    "    r = requests.get(url)\n",
    "    with open(filename, \"wb\") as file_context:\n",
    "        file_context.write(r.content)\n",
    "    return"
   ]
  },
  {
   "cell_type": "markdown",
   "metadata": {},
   "source": [
    "Let's test it out! Run the following cell and check whether a new file `cifar.tar.gz` is created in the file explorer."
   ]
  },
  {
   "cell_type": "code",
   "execution_count": 3,
   "metadata": {
    "tags": []
   },
   "outputs": [],
   "source": [
    "extract_cifar_data(\"https://www.cs.toronto.edu/~kriz/cifar-100-python.tar.gz\")     "
   ]
  },
  {
   "cell_type": "markdown",
   "metadata": {},
   "source": [
    "### 2. Transform the data into a usable shape and format\n",
    "\n",
    "Clearly, distributing the data as a gzipped archive makes sense for the hosting service! It saves on bandwidth, storage, and it's a widely-used archive format. In fact, it's so widely used that the Python community ships a utility for working with them, `tarfile`, as part of its Standard Library. Execute the following cell to decompress your extracted dataset:"
   ]
  },
  {
   "cell_type": "code",
   "execution_count": 4,
   "metadata": {
    "tags": []
   },
   "outputs": [],
   "source": [
    "import tarfile\n",
    "\n",
    "with tarfile.open(\"cifar.tar.gz\", \"r:gz\") as tar:\n",
    "    tar.extractall()"
   ]
  },
  {
   "cell_type": "markdown",
   "metadata": {},
   "source": [
    "A new folder `cifar-100-python` should be created, containing `meta`, `test`, and `train` files. These files are `pickles` and the [CIFAR homepage](https://www.cs.toronto.edu/~kriz/cifar.html) provides a simple script that can be used to load them. We've adapted the script below for you to run:"
   ]
  },
  {
   "cell_type": "code",
   "execution_count": 2,
   "metadata": {
    "tags": []
   },
   "outputs": [],
   "source": [
    "import pickle\n",
    "\n",
    "with open(\"./cifar-100-python/meta\", \"rb\") as f:\n",
    "    dataset_meta = pickle.load(f, encoding='bytes')\n",
    "\n",
    "with open(\"./cifar-100-python/test\", \"rb\") as f:\n",
    "    dataset_test = pickle.load(f, encoding='bytes')\n",
    "\n",
    "with open(\"./cifar-100-python/train\", \"rb\") as f:\n",
    "    dataset_train = pickle.load(f, encoding='bytes')"
   ]
  },
  {
   "cell_type": "code",
   "execution_count": 40,
   "metadata": {
    "tags": []
   },
   "outputs": [
    {
     "data": {
      "text/plain": [
       "dict_keys([b'filenames', b'batch_label', b'fine_labels', b'coarse_labels', b'data'])"
      ]
     },
     "execution_count": 40,
     "metadata": {},
     "output_type": "execute_result"
    }
   ],
   "source": [
    "# Feel free to explore the datasets\n",
    "\n",
    "dataset_test.keys()"
   ]
  },
  {
   "cell_type": "markdown",
   "metadata": {},
   "source": [
    "As documented on the homepage, `b'data'` contains rows of 3073 unsigned integers, representing three channels (red, green, and blue) for one 32x32 pixel image per row."
   ]
  },
  {
   "cell_type": "code",
   "execution_count": null,
   "metadata": {},
   "outputs": [],
   "source": [
    "32*32*3"
   ]
  },
  {
   "cell_type": "markdown",
   "metadata": {},
   "source": [
    "For a simple gut-check, let's transform one of our images. Each 1024 items in a row is a channel (red, green, then blue). Each 32 items in the channel are a row in the 32x32 image. Using python, we can stack these channels into a 32x32x3 array, and save it as a PNG file:"
   ]
  },
  {
   "cell_type": "code",
   "execution_count": 3,
   "metadata": {
    "tags": []
   },
   "outputs": [
    {
     "name": "stdout",
     "output_type": "stream",
     "text": [
      "(3072,)\n"
     ]
    }
   ],
   "source": [
    "import numpy as np\n",
    "\n",
    "# Each 1024 in a row is a channel (red, green, then blue)\n",
    "row = dataset_train[b'data'][16]\n",
    "print(row.shape)"
   ]
  },
  {
   "cell_type": "markdown",
   "metadata": {},
   "source": [
    "For a more concise version, consider the following:"
   ]
  },
  {
   "cell_type": "code",
   "execution_count": 69,
   "metadata": {
    "tags": []
   },
   "outputs": [],
   "source": [
    "# All in one:\n",
    "test_image = np.dstack((\n",
    "    row[0:1024].reshape(32,32),\n",
    "    row[1024:2048].reshape(32,32),\n",
    "    row[2048:].reshape(32,32)\n",
    "))"
   ]
  },
  {
   "cell_type": "code",
   "execution_count": 70,
   "metadata": {
    "tags": []
   },
   "outputs": [
    {
     "data": {
      "image/png": "[encoded data removed]",
      "text/plain": [
       "<Figure size 640x480 with 1 Axes>"
      ]
     },
     "metadata": {},
     "output_type": "display_data"
    }
   ],
   "source": [
    "import matplotlib.pyplot as plt\n",
    "%matplotlib inline\n",
    "plt.imshow(test_image);"
   ]
  },
  {
   "cell_type": "markdown",
   "metadata": {},
   "source": [
    "Looks like a cow! Let's check the label. `dataset_meta` contains label names in order, and `dataset_train` has a list of labels for each row."
   ]
  },
  {
   "cell_type": "code",
   "execution_count": 76,
   "metadata": {
    "tags": []
   },
   "outputs": [
    {
     "data": {
      "text/plain": [
       "8"
      ]
     },
     "execution_count": 76,
     "metadata": {},
     "output_type": "execute_result"
    }
   ],
   "source": [
    "dataset_train[b'fine_labels'][30]"
   ]
  },
  {
   "cell_type": "markdown",
   "metadata": {},
   "source": [
    "Our image has a label of `19`, so let's see what the 19th item is in the list of label names."
   ]
  },
  {
   "cell_type": "code",
   "execution_count": 78,
   "metadata": {
    "tags": []
   },
   "outputs": [
    {
     "name": "stdout",
     "output_type": "stream",
     "text": [
      "b'bicycle'\n"
     ]
    }
   ],
   "source": [
    "print(dataset_meta[b'fine_label_names'][8])"
   ]
  },
  {
   "cell_type": "markdown",
   "metadata": {},
   "source": [
    "Ok! 'cattle' sounds about right. By the way, using the previous two lines we can do:"
   ]
  },
  {
   "cell_type": "code",
   "execution_count": 80,
   "metadata": {
    "tags": []
   },
   "outputs": [
    {
     "name": "stdout",
     "output_type": "stream",
     "text": [
      "b'bicycle'\n"
     ]
    }
   ],
   "source": [
    "n = 30\n",
    "print(dataset_meta[b'fine_label_names'][dataset_train[b'fine_labels'][n]])"
   ]
  },
  {
   "cell_type": "markdown",
   "metadata": {},
   "source": [
    "Now we know how to check labels, is there a way that we can also check file names? `dataset_train` also contains a `b'filenames'` key. Let's see what we have here:"
   ]
  },
  {
   "cell_type": "code",
   "execution_count": 84,
   "metadata": {
    "tags": []
   },
   "outputs": [
    {
     "name": "stdout",
     "output_type": "stream",
     "text": [
      "b'bike_s_000682.png'\n"
     ]
    }
   ],
   "source": [
    "print(dataset_train[b'filenames'][16])"
   ]
  },
  {
   "cell_type": "markdown",
   "metadata": {},
   "source": [
    "\"Taurus\" is the name of a subspecies of cattle, so this looks like a pretty reasonable filename. To save an image we can also do:"
   ]
  },
  {
   "cell_type": "code",
   "execution_count": 60,
   "metadata": {
    "tags": []
   },
   "outputs": [],
   "source": [
    "plt.imsave(\"file.png\", test_image)"
   ]
  },
  {
   "cell_type": "markdown",
   "metadata": {},
   "source": [
    "Your new PNG file should now appear in the file explorer -- go ahead and pop it open to see!\n",
    "\n",
    "Now that you know how to reshape the images, save them as files, and capture their filenames and labels, let's just capture all the bicycles and motorcycles and save them. Scones Unlimited can use a model that tells these apart to route delivery drivers automatically.\n",
    "\n",
    "In the following cell, identify the label numbers for Bicycles and Motorcycles:"
   ]
  },
  {
   "cell_type": "code",
   "execution_count": 5,
   "metadata": {
    "tags": []
   },
   "outputs": [
    {
     "name": "stdout",
     "output_type": "stream",
     "text": [
      "dict_keys([b'fine_label_names', b'coarse_label_names'])\n"
     ]
    }
   ],
   "source": [
    "import pandas as pd\n",
    "\n",
    "# Todo: Filter the dataset_train and dataset_meta objects to find the label numbers for Bicycle and Motorcycles\n",
    "print(dataset_meta.keys())\n"
   ]
  },
  {
   "cell_type": "markdown",
   "metadata": {},
   "source": [
    "Good job! We only need objects with label 8 and 48 -- this drastically simplifies our handling of the data! Below we construct a dataframe for you, and you can safely drop the rows that don't contain observations about bicycles and motorcycles. Fill in the missing lines below to drop all other rows:"
   ]
  },
  {
   "cell_type": "code",
   "execution_count": 6,
   "metadata": {
    "tags": []
   },
   "outputs": [
    {
     "data": {
      "text/plain": [
       "(1000, 3)"
      ]
     },
     "execution_count": 6,
     "metadata": {},
     "output_type": "execute_result"
    }
   ],
   "source": [
    "#Construct the dataframe\n",
    "df_train = pd.DataFrame({\n",
    "    \"filenames\": dataset_train[b'filenames'],\n",
    "    \"labels\": dataset_train[b'fine_labels'],\n",
    "    \"row\": range(len(dataset_train[b'filenames']))\n",
    "})\n",
    "# Drop all rows from df_train where label is not 8 or 48\n",
    "df_train = df_train[(df_train['labels']==8) | (df_train['labels']==48)] #TODO: Fill in\n",
    "\n",
    "# Decode df_train.filenames so they are regular strings\n",
    "df_train[\"filenames\"] = df_train[\"filenames\"].apply(\n",
    "    lambda x: x.decode(\"utf-8\")\n",
    ")\n",
    "\n",
    "\n",
    "df_test = pd.DataFrame({\n",
    "    \"filenames\": dataset_test[b'filenames'],\n",
    "    \"labels\": dataset_test[b'fine_labels'],\n",
    "    \"row\": range(len(dataset_test[b'filenames']))\n",
    "})\n",
    "\n",
    "# Drop all rows from df_test where label is not 8 or 48\n",
    "df_test = df_test[(df_test['labels']==8) | (df_test['labels']==48)]  #TODO: Fill in\n",
    "\n",
    "# Decode df_test.filenames so they are regular strings\n",
    "df_test[\"filenames\"] = df_test[\"filenames\"].apply(\n",
    "    lambda x: x.decode(\"utf-8\")\n",
    ")\n",
    "df_train.shape\n"
   ]
  },
  {
   "cell_type": "markdown",
   "metadata": {},
   "source": [
    "Now that the data is filtered for just our classes, we can save all our images."
   ]
  },
  {
   "cell_type": "code",
   "execution_count": 29,
   "metadata": {
    "tags": []
   },
   "outputs": [],
   "source": [
    "!mkdir ./train\n",
    "!mkdir ./test"
   ]
  },
  {
   "cell_type": "markdown",
   "metadata": {},
   "source": [
    "In the previous sections we introduced you to several key snippets of code:\n",
    "\n",
    "1. Grabbing the image data:\n",
    "\n",
    "```python\n",
    "dataset_train[b'data'][0]\n",
    "```\n",
    "\n",
    "2. A simple idiom for stacking the image data into the right shape\n",
    "\n",
    "```python\n",
    "import numpy as np\n",
    "np.dstack((\n",
    "    row[0:1024].reshape(32,32),\n",
    "    row[1024:2048].reshape(32,32),\n",
    "    row[2048:].reshape(32,32)\n",
    "))\n",
    "```\n",
    "\n",
    "3. A simple `matplotlib` utility for saving images\n",
    "\n",
    "```python\n",
    "plt.imsave(path+row['filenames'], target)\n",
    "```\n",
    "\n",
    "Compose these together into a function that saves all the images into the `./test` and `./train` directories. Use the comments in the body of the `save_images` function below to guide your construction of the function:\n"
   ]
  },
  {
   "cell_type": "code",
   "execution_count": 105,
   "metadata": {
    "tags": []
   },
   "outputs": [],
   "source": [
    "def save_images(dataset,data_frame,rows,path):\n",
    "    #Grab the image data in row-major form\n",
    "    for x in rows:        \n",
    "        img = dataset[b'data'][x]    \n",
    "    # Consolidated stacking/reshaping from earlier\n",
    "        target = np.dstack((\n",
    "            img[0:1024].reshape(32,32),\n",
    "            img[1024:2048].reshape(32,32),\n",
    "            img[2048:].reshape(32,32)\n",
    "        ))\n",
    "        plt.imsave(path+data_frame.loc[x]['filenames'], target)\n",
    "    \n",
    "    # Save the image\n",
    "    \n",
    "    \n",
    "    \n",
    "    # Return any signal data you want for debugging\n",
    "    return\n",
    "\n",
    "## TODO: save ALL images using the save_images function\n",
    "rows = df_train['row'].to_list()\n",
    "save_images(dataset_train,df_train,rows,'train/')\n",
    "\n",
    "rows = df_test['row'].to_list()\n",
    "save_images(dataset_test,df_test,rows,'test/')\n"
   ]
  },
  {
   "cell_type": "markdown",
   "metadata": {},
   "source": [
    "### 3. Load the data\n",
    "\n",
    "Now we can load the data into S3.\n",
    "\n",
    "Using the sagemaker SDK grab the current region, execution role, and bucket."
   ]
  },
  {
   "cell_type": "code",
   "execution_count": 7,
   "metadata": {},
   "outputs": [
    {
     "name": "stdout",
     "output_type": "stream",
     "text": [
      "Default Bucket: sagemaker-us-east-1-128404087512\n",
      "AWS Region: us-east-1\n",
      "RoleArn: arn:aws:iam::128404087512:role/service-role/AmazonSageMaker-ExecutionRole-20221220T101699\n"
     ]
    }
   ],
   "source": [
    "import sagemaker\n",
    "from sagemaker.session import Session\n",
    "from sagemaker import get_execution_role\n",
    "\n",
    "session = sagemaker.Session()\n",
    "\n",
    "bucket= session.default_bucket() ## TODO: fill in\n",
    "print(\"Default Bucket: {}\".format(bucket))\n",
    "\n",
    "region = session.boto_region_name ## TODO: fill in\n",
    "print(\"AWS Region: {}\".format(region))\n",
    "\n",
    "role = get_execution_role() ## TODO: fill in\n",
    "print(\"RoleArn: {}\".format(role))"
   ]
  },
  {
   "cell_type": "markdown",
   "metadata": {},
   "source": [
    "With this data we can easily sync your data up into S3!"
   ]
  },
  {
   "cell_type": "code",
   "execution_count": 8,
   "metadata": {},
   "outputs": [],
   "source": [
    "import os\n",
    "\n",
    "os.environ[\"DEFAULT_S3_BUCKET\"] = bucket\n",
    "!aws s3 sync ./train s3://${DEFAULT_S3_BUCKET}/train/\n",
    "!aws s3 sync ./test s3://${DEFAULT_S3_BUCKET}/test/"
   ]
  },
  {
   "cell_type": "markdown",
   "metadata": {},
   "source": [
    "And that's it! You can check the bucket and verify that the items were uploaded.\n",
    "\n",
    "## Model Training\n",
    "\n",
    "For Image Classification, Sagemaker [also expects metadata](https://docs.aws.amazon.com/sagemaker/latest/dg/image-classification.html) e.g. in the form of TSV files with labels and filepaths. We can generate these using our Pandas DataFrames from earlier:"
   ]
  },
  {
   "cell_type": "code",
   "execution_count": 9,
   "metadata": {},
   "outputs": [],
   "source": [
    "def to_metadata_file(df, prefix):\n",
    "    df[\"s3_path\"] = df[\"filenames\"]\n",
    "    df[\"labels\"] = df[\"labels\"].apply(lambda x: 0 if x==8 else 1)\n",
    "    return df[[\"row\", \"labels\", \"s3_path\"]].to_csv(\n",
    "        f\"{prefix}.lst\", sep=\"\\t\", index=False, header=False\n",
    "    )\n",
    "    \n",
    "to_metadata_file(df_train.copy(), \"train\")\n",
    "to_metadata_file(df_test.copy(), \"test\")"
   ]
  },
  {
   "cell_type": "markdown",
   "metadata": {},
   "source": [
    "We can also upload our manifest files:"
   ]
  },
  {
   "cell_type": "code",
   "execution_count": 10,
   "metadata": {},
   "outputs": [],
   "source": [
    "import boto3\n",
    "\n",
    "# Upload files\n",
    "boto3.Session().resource('s3').Bucket(\n",
    "    bucket).Object('train.lst').upload_file('./train.lst')\n",
    "boto3.Session().resource('s3').Bucket(\n",
    "    bucket).Object('test.lst').upload_file('./test.lst')"
   ]
  },
  {
   "cell_type": "markdown",
   "metadata": {},
   "source": [
    "Using the `bucket` and `region` info we can get the latest prebuilt container to run our training job, and define an output location on our s3 bucket for the model. Use the `image_uris` function from the SageMaker SDK to retrieve the latest `image-classification` image below:"
   ]
  },
  {
   "cell_type": "code",
   "execution_count": 124,
   "metadata": {},
   "outputs": [
    {
     "name": "stderr",
     "output_type": "stream",
     "text": [
      "Defaulting to the only supported framework/algorithm version: 1. Ignoring framework/algorithm version: latest.\n"
     ]
    }
   ],
   "source": [
    "# Use the image_uris function to retrieve the latest 'image-classification' image \n",
    "algo_image = sagemaker.image_uris.retrieve(\"image-classification\", region, version='latest') ## TODO: fill in\n",
    "s3_output_location = f\"s3://{bucket}/models/image_model\""
   ]
  },
  {
   "cell_type": "markdown",
   "metadata": {},
   "source": [
    "We're ready to create an estimator! Create an estimator `img_classifier_model` that uses one instance of `ml.p3.2xlarge`. Ensure that y ou use the output location we defined above - we'll be referring to that later!"
   ]
  },
  {
   "cell_type": "code",
   "execution_count": 125,
   "metadata": {},
   "outputs": [],
   "source": [
    "img_classifier_model=sagemaker.estimator.Estimator(\n",
    "    ## TODO: define your estimator options\n",
    "    image_uri=algo_image,\n",
    "    role=role,\n",
    "    instance_count=1,\n",
    "    instance_type=\"ml.p3.2xlarge\",\n",
    "    volume_size=5,\n",
    "    output_path=s3_output_location,\n",
    "    sagemaker_session=sagemaker.Session(),\n",
    "    \n",
    ")"
   ]
  },
  {
   "cell_type": "markdown",
   "metadata": {},
   "source": [
    "We can also set a few key hyperparameters and define the inputs for our model:"
   ]
  },
  {
   "cell_type": "code",
   "execution_count": 126,
   "metadata": {},
   "outputs": [],
   "source": [
    "img_classifier_model.set_hyperparameters(\n",
    "    image_shape= '3,32,32', # TODO: Fill in\n",
    "    num_classes=2, # TODO: Fill in\n",
    "    num_training_samples= 1000# TODO: fill in\n",
    ")"
   ]
  },
  {
   "cell_type": "markdown",
   "metadata": {},
   "source": [
    "The `image-classification` image uses four input channels with very specific input parameters. For convenience, we've provided them below:"
   ]
  },
  {
   "cell_type": "code",
   "execution_count": 127,
   "metadata": {},
   "outputs": [],
   "source": [
    "from sagemaker.debugger import Rule, rule_configs\n",
    "from sagemaker.session import TrainingInput\n",
    "model_inputs = {\n",
    "        \"train\": sagemaker.inputs.TrainingInput(\n",
    "            s3_data=f\"s3://{bucket}/train/\",\n",
    "            content_type=\"application/x-image\"\n",
    "        ),\n",
    "        \"validation\": sagemaker.inputs.TrainingInput(\n",
    "            s3_data=f\"s3://{bucket}/test/\",\n",
    "            content_type=\"application/x-image\"\n",
    "        ),\n",
    "        \"train_lst\": sagemaker.inputs.TrainingInput(\n",
    "            s3_data=f\"s3://{bucket}/train.lst\",\n",
    "            content_type=\"application/x-image\"\n",
    "        ),\n",
    "        \"validation_lst\": sagemaker.inputs.TrainingInput(\n",
    "            s3_data=f\"s3://{bucket}/test.lst\",\n",
    "            content_type=\"application/x-image\"\n",
    "        )\n",
    "}"
   ]
  },
  {
   "cell_type": "markdown",
   "metadata": {},
   "source": [
    "Great, now we can train the model using the model_inputs. In the cell below, call the `fit` method on our model,:"
   ]
  },
  {
   "cell_type": "code",
   "execution_count": 128,
   "metadata": {},
   "outputs": [
    {
     "name": "stdout",
     "output_type": "stream",
     "text": [
      "2023-01-12 16:21:23 Starting - Starting the training job...\n",
      "2023-01-12 16:21:50 Starting - Preparing the instances for trainingProfilerReport-1673540483: InProgress\n",
      ".........\n",
      "2023-01-12 16:23:07 Downloading - Downloading input data...\n",
      "2023-01-12 16:23:47 Training - Downloading the training image............\n",
      "2023-01-12 16:25:55 Training - Training image download completed. Training in progress.....\u001b[34mDocker entrypoint called with argument(s): train\u001b[0m\n",
      "\u001b[34mRunning default environment configuration script\u001b[0m\n",
      "\u001b[34mNvidia gpu devices, drivers and cuda toolkit versions (only available on hosts with GPU):\u001b[0m\n",
      "\u001b[34mThu Jan 12 16:26:24 2023       \u001b[0m\n",
      "\u001b[34m+-----------------------------------------------------------------------------+\u001b[0m\n",
      "\u001b[34m| NVIDIA-SMI 515.65.07    Driver Version: 515.65.07    CUDA Version: 11.7     |\u001b[0m\n",
      "\u001b[34m|-------------------------------+----------------------+----------------------+\u001b[0m\n",
      "\u001b[34m| GPU  Name        Persistence-M| Bus-Id        Disp.A | Volatile Uncorr. ECC |\u001b[0m\n",
      "\u001b[34m| Fan  Temp  Perf  Pwr:Usage/Cap|         Memory-Usage | GPU-Util  Compute M. |\u001b[0m\n",
      "\u001b[34m|                               |                      |               MIG M. |\u001b[0m\n",
      "\u001b[34m|===============================+======================+======================|\u001b[0m\n",
      "\u001b[34m|   0  Tesla V100-SXM2...  On   | 00000000:00:1E.0 Off |                    0 |\u001b[0m\n",
      "\u001b[34m| N/A   40C    P0    24W / 300W |      0MiB / 16384MiB |      0%      Default |\u001b[0m\n",
      "\u001b[34m|                               |                      |                  N/A |\u001b[0m\n",
      "\u001b[34m+-------------------------------+----------------------+----------------------+\n",
      "                                                                               \u001b[0m\n",
      "\u001b[34m+-----------------------------------------------------------------------------+\u001b[0m\n",
      "\u001b[34m| Processes:                                                                  |\u001b[0m\n",
      "\u001b[34m|  GPU   GI   CI        PID   Type   Process name                  GPU Memory |\u001b[0m\n",
      "\u001b[34m|        ID   ID                                                   Usage      |\u001b[0m\n",
      "\u001b[34m|=============================================================================|\u001b[0m\n",
      "\u001b[34m|  No running processes found                                                 |\u001b[0m\n",
      "\u001b[34m+-----------------------------------------------------------------------------+\u001b[0m\n",
      "\u001b[34mChecking for nvidia driver and cuda compatibility.\u001b[0m\n",
      "\u001b[34mCUDA Compatibility driver provided.\u001b[0m\n",
      "\u001b[34mProceeding with compatibility check between driver, cuda-toolkit and cuda-compat.\u001b[0m\n",
      "\u001b[34mDetected cuda-toolkit version: 11.1.\u001b[0m\n",
      "\u001b[34mDetected cuda-compat version: 455.32.00.\u001b[0m\n",
      "\u001b[34mDetected Nvidia driver version: 515.65.07.\u001b[0m\n",
      "\u001b[34mNvidia driver compatible with cuda-toolkit. Disabling cuda-compat.\u001b[0m\n",
      "\u001b[34m[01/12/2023 16:26:28 INFO 140510013486912] Reading default configuration from /opt/amazon/lib/python3.7/site-packages/image_classification/default-input.json: {'use_pretrained_model': 0, 'num_layers': 152, 'epochs': 30, 'learning_rate': 0.1, 'lr_scheduler_factor': 0.1, 'optimizer': 'sgd', 'momentum': 0, 'weight_decay': 0.0001, 'beta_1': 0.9, 'beta_2': 0.999, 'eps': 1e-08, 'gamma': 0.9, 'mini_batch_size': 32, 'image_shape': '3,224,224', 'precision_dtype': 'float32'}\u001b[0m\n",
      "\u001b[34m[01/12/2023 16:26:28 INFO 140510013486912] Merging with provided configuration from /opt/ml/input/config/hyperparameters.json: {'image_shape': '3,32,32', 'num_classes': '2', 'num_training_samples': '1000'}\u001b[0m\n",
      "\u001b[34m[01/12/2023 16:26:28 INFO 140510013486912] Final configuration: {'use_pretrained_model': 0, 'num_layers': 152, 'epochs': 30, 'learning_rate': 0.1, 'lr_scheduler_factor': 0.1, 'optimizer': 'sgd', 'momentum': 0, 'weight_decay': 0.0001, 'beta_1': 0.9, 'beta_2': 0.999, 'eps': 1e-08, 'gamma': 0.9, 'mini_batch_size': 32, 'image_shape': '3,32,32', 'precision_dtype': 'float32', 'num_classes': '2', 'num_training_samples': '1000'}\u001b[0m\n",
      "\u001b[34m[01/12/2023 16:26:28 INFO 140510013486912] Searching for .lst files in /opt/ml/input/data/train_lst.\u001b[0m\n",
      "\u001b[34m[01/12/2023 16:26:28 INFO 140510013486912] Creating record files for train.lst\u001b[0m\n",
      "\u001b[34m[01/12/2023 16:26:28 INFO 140510013486912] Done creating record files...\u001b[0m\n",
      "\u001b[34m[01/12/2023 16:26:28 INFO 140510013486912] Searching for .lst files in /opt/ml/input/data/validation_lst.\u001b[0m\n",
      "\u001b[34m[01/12/2023 16:26:28 INFO 140510013486912] Creating record files for test.lst\u001b[0m\n",
      "\u001b[34m[01/12/2023 16:26:28 INFO 140510013486912] Done creating record files...\u001b[0m\n",
      "\u001b[34m[01/12/2023 16:26:28 INFO 140510013486912] use_pretrained_model: 0\u001b[0m\n",
      "\u001b[34m[01/12/2023 16:26:28 INFO 140510013486912] multi_label: 0\u001b[0m\n",
      "\u001b[34m[01/12/2023 16:26:28 INFO 140510013486912] Performing random weight initialization\u001b[0m\n",
      "\u001b[34m[01/12/2023 16:26:28 INFO 140510013486912] ---- Parameters ----\u001b[0m\n",
      "\u001b[34m[01/12/2023 16:26:28 INFO 140510013486912] num_layers: 152\u001b[0m\n",
      "\u001b[34m[01/12/2023 16:26:28 INFO 140510013486912] data type: <class 'numpy.float32'>\u001b[0m\n",
      "\u001b[34m[01/12/2023 16:26:28 INFO 140510013486912] epochs: 30\u001b[0m\n",
      "\u001b[34m[01/12/2023 16:26:28 INFO 140510013486912] optimizer: sgd\u001b[0m\n",
      "\u001b[34m[01/12/2023 16:26:28 INFO 140510013486912] momentum: 0.9\u001b[0m\n",
      "\u001b[34m[01/12/2023 16:26:28 INFO 140510013486912] weight_decay: 0.0001\u001b[0m\n",
      "\u001b[34m[01/12/2023 16:26:28 INFO 140510013486912] learning_rate: 0.1\u001b[0m\n",
      "\u001b[34m[01/12/2023 16:26:28 INFO 140510013486912] num_training_samples: 1000\u001b[0m\n",
      "\u001b[34m[01/12/2023 16:26:28 INFO 140510013486912] mini_batch_size: 32\u001b[0m\n",
      "\u001b[34m[01/12/2023 16:26:28 INFO 140510013486912] image_shape: 3,32,32\u001b[0m\n",
      "\u001b[34m[01/12/2023 16:26:28 INFO 140510013486912] num_classes: 2\u001b[0m\n",
      "\u001b[34m[01/12/2023 16:26:28 INFO 140510013486912] augmentation_type: None\u001b[0m\n",
      "\u001b[34m[01/12/2023 16:26:28 INFO 140510013486912] kv_store: device\u001b[0m\n",
      "\u001b[34m[01/12/2023 16:26:28 INFO 140510013486912] checkpoint_frequency not set, will store the best model\u001b[0m\n",
      "\u001b[34m[01/12/2023 16:26:28 INFO 140510013486912] --------------------\u001b[0m\n",
      "\u001b[34m[01/12/2023 16:26:28 INFO 140510013486912] Setting number of threads: 7\u001b[0m\n",
      "\u001b[34m[16:26:32] /opt/brazil-pkg-cache/packages/AIAlgorithmsMXNet/AIAlgorithmsMXNet-1.4.x_ecl_Cuda_11.1.x.38.0/AL2_x86_64/generic-flavor/src/src/operator/nn/./cudnn/./cudnn_algoreg-inl.h:97: Running performance tests to find the best convolution algorithm, this can take a while... (setting env variable MXNET_CUDNN_AUTOTUNE_DEFAULT to 0 to disable)\u001b[0m\n",
      "\u001b[34m[01/12/2023 16:26:37 INFO 140510013486912] Epoch[0] Batch [20]#011Speed: 124.309 samples/sec#011accuracy=0.592262\u001b[0m\n",
      "\u001b[34m[01/12/2023 16:26:39 INFO 140510013486912] Epoch[0] Train-accuracy=0.638105\u001b[0m\n",
      "\u001b[34m[01/12/2023 16:26:39 INFO 140510013486912] Epoch[0] Time cost=6.793\u001b[0m\n",
      "\u001b[34m[01/12/2023 16:26:39 INFO 140510013486912] Epoch[0] Validation-accuracy=0.494792\u001b[0m\n",
      "\u001b[34m[01/12/2023 16:26:39 INFO 140510013486912] Storing the best model with validation accuracy: 0.494792\u001b[0m\n",
      "\u001b[34m[01/12/2023 16:26:40 INFO 140510013486912] Saved checkpoint to \"/opt/ml/model/image-classification-0001.params\"\u001b[0m\n",
      "\u001b[34m[01/12/2023 16:26:43 INFO 140510013486912] Epoch[1] Batch [20]#011Speed: 189.809 samples/sec#011accuracy=0.739583\u001b[0m\n",
      "\u001b[34m[01/12/2023 16:26:45 INFO 140510013486912] Epoch[1] Train-accuracy=0.737903\u001b[0m\n",
      "\u001b[34m[01/12/2023 16:26:45 INFO 140510013486912] Epoch[1] Time cost=5.015\u001b[0m\n",
      "\u001b[34m[01/12/2023 16:26:45 INFO 140510013486912] Epoch[1] Validation-accuracy=0.546875\u001b[0m\n",
      "\u001b[34m[01/12/2023 16:26:46 INFO 140510013486912] Storing the best model with validation accuracy: 0.546875\u001b[0m\n",
      "\u001b[34m[01/12/2023 16:26:46 INFO 140510013486912] Saved checkpoint to \"/opt/ml/model/image-classification-0002.params\"\u001b[0m\n",
      "\u001b[34m[01/12/2023 16:26:49 INFO 140510013486912] Epoch[2] Batch [20]#011Speed: 187.983 samples/sec#011accuracy=0.721726\u001b[0m\n",
      "\u001b[34m[01/12/2023 16:26:51 INFO 140510013486912] Epoch[2] Train-accuracy=0.713710\u001b[0m\n",
      "\u001b[34m[01/12/2023 16:26:51 INFO 140510013486912] Epoch[2] Time cost=5.100\u001b[0m\n",
      "\u001b[34m[01/12/2023 16:26:52 INFO 140510013486912] Epoch[2] Validation-accuracy=0.755208\u001b[0m\n",
      "\u001b[34m[01/12/2023 16:26:52 INFO 140510013486912] Storing the best model with validation accuracy: 0.755208\u001b[0m\n",
      "\u001b[34m[01/12/2023 16:26:52 INFO 140510013486912] Saved checkpoint to \"/opt/ml/model/image-classification-0003.params\"\u001b[0m\n",
      "\u001b[34m[01/12/2023 16:26:56 INFO 140510013486912] Epoch[3] Batch [20]#011Speed: 182.782 samples/sec#011accuracy=0.744048\u001b[0m\n",
      "\u001b[34m[01/12/2023 16:26:58 INFO 140510013486912] Epoch[3] Train-accuracy=0.773185\u001b[0m\n",
      "\u001b[34m[01/12/2023 16:26:58 INFO 140510013486912] Epoch[3] Time cost=5.183\u001b[0m\n",
      "\u001b[34m[01/12/2023 16:26:58 INFO 140510013486912] Epoch[3] Validation-accuracy=0.776786\u001b[0m\n",
      "\u001b[34m[01/12/2023 16:26:58 INFO 140510013486912] Storing the best model with validation accuracy: 0.776786\u001b[0m\n",
      "\u001b[34m[01/12/2023 16:26:59 INFO 140510013486912] Saved checkpoint to \"/opt/ml/model/image-classification-0004.params\"\u001b[0m\n",
      "\u001b[34m[01/12/2023 16:27:02 INFO 140510013486912] Epoch[4] Batch [20]#011Speed: 183.715 samples/sec#011accuracy=0.760417\u001b[0m\n",
      "\u001b[34m[01/12/2023 16:27:04 INFO 140510013486912] Epoch[4] Train-accuracy=0.769153\u001b[0m\n",
      "\u001b[34m[01/12/2023 16:27:04 INFO 140510013486912] Epoch[4] Time cost=5.168\u001b[0m\n",
      "\u001b[34m[01/12/2023 16:27:04 INFO 140510013486912] Epoch[4] Validation-accuracy=0.760417\u001b[0m\n",
      "\u001b[34m[01/12/2023 16:27:08 INFO 140510013486912] Epoch[5] Batch [20]#011Speed: 189.538 samples/sec#011accuracy=0.773810\u001b[0m\n",
      "\u001b[34m[01/12/2023 16:27:10 INFO 140510013486912] Epoch[5] Train-accuracy=0.761089\u001b[0m\n",
      "\u001b[34m[01/12/2023 16:27:10 INFO 140510013486912] Epoch[5] Time cost=5.032\u001b[0m\n",
      "\u001b[34m[01/12/2023 16:27:10 INFO 140510013486912] Epoch[5] Validation-accuracy=0.791667\u001b[0m\n",
      "\u001b[34m[01/12/2023 16:27:11 INFO 140510013486912] Storing the best model with validation accuracy: 0.791667\u001b[0m\n",
      "\u001b[34m[01/12/2023 16:27:11 INFO 140510013486912] Saved checkpoint to \"/opt/ml/model/image-classification-0006.params\"\u001b[0m\n",
      "\u001b[34m[01/12/2023 16:27:15 INFO 140510013486912] Epoch[6] Batch [20]#011Speed: 190.269 samples/sec#011accuracy=0.781250\u001b[0m\n",
      "\u001b[34m[01/12/2023 16:27:16 INFO 140510013486912] Epoch[6] Train-accuracy=0.788306\u001b[0m\n",
      "\u001b[34m[01/12/2023 16:27:16 INFO 140510013486912] Epoch[6] Time cost=5.015\u001b[0m\n",
      "\u001b[34m[01/12/2023 16:27:17 INFO 140510013486912] Epoch[6] Validation-accuracy=0.817708\u001b[0m\n",
      "\u001b[34m[01/12/2023 16:27:17 INFO 140510013486912] Storing the best model with validation accuracy: 0.817708\u001b[0m\n",
      "\u001b[34m[01/12/2023 16:27:17 INFO 140510013486912] Saved checkpoint to \"/opt/ml/model/image-classification-0007.params\"\u001b[0m\n",
      "\u001b[34m[01/12/2023 16:27:21 INFO 140510013486912] Epoch[7] Batch [20]#011Speed: 192.635 samples/sec#011accuracy=0.799107\u001b[0m\n",
      "\u001b[34m[01/12/2023 16:27:22 INFO 140510013486912] Epoch[7] Train-accuracy=0.802419\u001b[0m\n",
      "\u001b[34m[01/12/2023 16:27:22 INFO 140510013486912] Epoch[7] Time cost=4.948\u001b[0m\n",
      "\u001b[34m[01/12/2023 16:27:23 INFO 140510013486912] Epoch[7] Validation-accuracy=0.785714\u001b[0m\n",
      "\u001b[34m[01/12/2023 16:27:27 INFO 140510013486912] Epoch[8] Batch [20]#011Speed: 189.532 samples/sec#011accuracy=0.830357\u001b[0m\n",
      "\u001b[34m[01/12/2023 16:27:28 INFO 140510013486912] Epoch[8] Train-accuracy=0.834677\u001b[0m\n",
      "\u001b[34m[01/12/2023 16:27:28 INFO 140510013486912] Epoch[8] Time cost=5.022\u001b[0m\n",
      "\u001b[34m[01/12/2023 16:27:29 INFO 140510013486912] Epoch[8] Validation-accuracy=0.828125\u001b[0m\n",
      "\u001b[34m[01/12/2023 16:27:29 INFO 140510013486912] Storing the best model with validation accuracy: 0.828125\u001b[0m\n",
      "\u001b[34m[01/12/2023 16:27:30 INFO 140510013486912] Saved checkpoint to \"/opt/ml/model/image-classification-0009.params\"\u001b[0m\n",
      "\u001b[34m[01/12/2023 16:27:33 INFO 140510013486912] Epoch[9] Batch [20]#011Speed: 190.147 samples/sec#011accuracy=0.816964\u001b[0m\n",
      "\u001b[34m[01/12/2023 16:27:35 INFO 140510013486912] Epoch[9] Train-accuracy=0.829637\u001b[0m\n",
      "\u001b[34m[01/12/2023 16:27:35 INFO 140510013486912] Epoch[9] Time cost=5.032\u001b[0m\n",
      "\u001b[34m[01/12/2023 16:27:35 INFO 140510013486912] Epoch[9] Validation-accuracy=0.843750\u001b[0m\n",
      "\u001b[34m[01/12/2023 16:27:36 INFO 140510013486912] Storing the best model with validation accuracy: 0.843750\u001b[0m\n",
      "\u001b[34m[01/12/2023 16:27:36 INFO 140510013486912] Saved checkpoint to \"/opt/ml/model/image-classification-0010.params\"\u001b[0m\n",
      "\u001b[34m[01/12/2023 16:27:39 INFO 140510013486912] Epoch[10] Batch [20]#011Speed: 191.334 samples/sec#011accuracy=0.848214\u001b[0m\n",
      "\u001b[34m[01/12/2023 16:27:41 INFO 140510013486912] Epoch[10] Train-accuracy=0.847782\u001b[0m\n",
      "\u001b[34m[01/12/2023 16:27:41 INFO 140510013486912] Epoch[10] Time cost=4.990\u001b[0m\n",
      "\u001b[34m[01/12/2023 16:27:41 INFO 140510013486912] Epoch[10] Validation-accuracy=0.807292\u001b[0m\n",
      "\u001b[34m[01/12/2023 16:27:45 INFO 140510013486912] Epoch[11] Batch [20]#011Speed: 190.407 samples/sec#011accuracy=0.837798\u001b[0m\n",
      "\u001b[34m[01/12/2023 16:27:47 INFO 140510013486912] Epoch[11] Train-accuracy=0.838710\u001b[0m\n",
      "\u001b[34m[01/12/2023 16:27:47 INFO 140510013486912] Epoch[11] Time cost=4.995\u001b[0m\n",
      "\u001b[34m[01/12/2023 16:27:47 INFO 140510013486912] Epoch[11] Validation-accuracy=0.812500\u001b[0m\n",
      "\u001b[34m[01/12/2023 16:27:51 INFO 140510013486912] Epoch[12] Batch [20]#011Speed: 189.220 samples/sec#011accuracy=0.880952\u001b[0m\n",
      "\u001b[34m[01/12/2023 16:27:53 INFO 140510013486912] Epoch[12] Train-accuracy=0.881048\u001b[0m\n",
      "\u001b[34m[01/12/2023 16:27:53 INFO 140510013486912] Epoch[12] Time cost=5.019\u001b[0m\n",
      "\u001b[34m[01/12/2023 16:27:53 INFO 140510013486912] Epoch[12] Validation-accuracy=0.812500\u001b[0m\n",
      "\u001b[34m[01/12/2023 16:27:57 INFO 140510013486912] Epoch[13] Batch [20]#011Speed: 191.748 samples/sec#011accuracy=0.892857\u001b[0m\n",
      "\u001b[34m[01/12/2023 16:27:59 INFO 140510013486912] Epoch[13] Train-accuracy=0.889113\u001b[0m\n",
      "\u001b[34m[01/12/2023 16:27:59 INFO 140510013486912] Epoch[13] Time cost=4.963\u001b[0m\n",
      "\u001b[34m[01/12/2023 16:27:59 INFO 140510013486912] Epoch[13] Validation-accuracy=0.822917\u001b[0m\n",
      "\u001b[34m[01/12/2023 16:28:03 INFO 140510013486912] Epoch[14] Batch [20]#011Speed: 185.132 samples/sec#011accuracy=0.900298\u001b[0m\n",
      "\u001b[34m[01/12/2023 16:28:05 INFO 140510013486912] Epoch[14] Train-accuracy=0.899194\u001b[0m\n",
      "\u001b[34m[01/12/2023 16:28:05 INFO 140510013486912] Epoch[14] Time cost=5.098\u001b[0m\n",
      "\u001b[34m[01/12/2023 16:28:06 INFO 140510013486912] Epoch[14] Validation-accuracy=0.848958\u001b[0m\n",
      "\u001b[34m[01/12/2023 16:28:06 INFO 140510013486912] Storing the best model with validation accuracy: 0.848958\u001b[0m\n",
      "\u001b[34m[01/12/2023 16:28:06 INFO 140510013486912] Saved checkpoint to \"/opt/ml/model/image-classification-0015.params\"\u001b[0m\n",
      "\u001b[34m[01/12/2023 16:28:10 INFO 140510013486912] Epoch[15] Batch [20]#011Speed: 190.582 samples/sec#011accuracy=0.901786\u001b[0m\n",
      "\u001b[34m[01/12/2023 16:28:11 INFO 140510013486912] Epoch[15] Train-accuracy=0.892137\u001b[0m\n",
      "\u001b[34m[01/12/2023 16:28:11 INFO 140510013486912] Epoch[15] Time cost=4.999\u001b[0m\n",
      "\u001b[34m[01/12/2023 16:28:12 INFO 140510013486912] Epoch[15] Validation-accuracy=0.794643\u001b[0m\n",
      "\u001b[34m[01/12/2023 16:28:16 INFO 140510013486912] Epoch[16] Batch [20]#011Speed: 188.841 samples/sec#011accuracy=0.906250\u001b[0m\n",
      "\u001b[34m[01/12/2023 16:28:17 INFO 140510013486912] Epoch[16] Train-accuracy=0.891129\u001b[0m\n",
      "\u001b[34m[01/12/2023 16:28:17 INFO 140510013486912] Epoch[16] Time cost=5.023\u001b[0m\n",
      "\u001b[34m[01/12/2023 16:28:18 INFO 140510013486912] Epoch[16] Validation-accuracy=0.822917\u001b[0m\n",
      "\u001b[34m[01/12/2023 16:28:22 INFO 140510013486912] Epoch[17] Batch [20]#011Speed: 192.075 samples/sec#011accuracy=0.934524\u001b[0m\n",
      "\u001b[34m[01/12/2023 16:28:23 INFO 140510013486912] Epoch[17] Train-accuracy=0.935484\u001b[0m\n",
      "\u001b[34m[01/12/2023 16:28:23 INFO 140510013486912] Epoch[17] Time cost=4.993\u001b[0m\n",
      "\u001b[34m[01/12/2023 16:28:24 INFO 140510013486912] Epoch[17] Validation-accuracy=0.843750\u001b[0m\n",
      "\u001b[34m[01/12/2023 16:28:28 INFO 140510013486912] Epoch[18] Batch [20]#011Speed: 191.311 samples/sec#011accuracy=0.921131\u001b[0m\n",
      "\u001b[34m[01/12/2023 16:28:29 INFO 140510013486912] Epoch[18] Train-accuracy=0.926411\u001b[0m\n",
      "\u001b[34m[01/12/2023 16:28:29 INFO 140510013486912] Epoch[18] Time cost=5.015\u001b[0m\n",
      "\u001b[34m[01/12/2023 16:28:30 INFO 140510013486912] Epoch[18] Validation-accuracy=0.869792\u001b[0m\n",
      "\u001b[34m[01/12/2023 16:28:30 INFO 140510013486912] Storing the best model with validation accuracy: 0.869792\u001b[0m\n",
      "\u001b[34m[01/12/2023 16:28:31 INFO 140510013486912] Saved checkpoint to \"/opt/ml/model/image-classification-0019.params\"\u001b[0m\n",
      "\u001b[34m[01/12/2023 16:28:34 INFO 140510013486912] Epoch[19] Batch [20]#011Speed: 189.750 samples/sec#011accuracy=0.925595\u001b[0m\n",
      "\u001b[34m[01/12/2023 16:28:36 INFO 140510013486912] Epoch[19] Train-accuracy=0.922379\u001b[0m\n",
      "\u001b[34m[01/12/2023 16:28:36 INFO 140510013486912] Epoch[19] Time cost=5.043\u001b[0m\n",
      "\u001b[34m[01/12/2023 16:28:36 INFO 140510013486912] Epoch[19] Validation-accuracy=0.857143\u001b[0m\n",
      "\u001b[34m[01/12/2023 16:28:40 INFO 140510013486912] Epoch[20] Batch [20]#011Speed: 190.808 samples/sec#011accuracy=0.950893\u001b[0m\n",
      "\u001b[34m[01/12/2023 16:28:42 INFO 140510013486912] Epoch[20] Train-accuracy=0.946573\u001b[0m\n",
      "\u001b[34m[01/12/2023 16:28:42 INFO 140510013486912] Epoch[20] Time cost=5.009\u001b[0m\n",
      "\u001b[34m[01/12/2023 16:28:42 INFO 140510013486912] Epoch[20] Validation-accuracy=0.859375\u001b[0m\n",
      "\u001b[34m[01/12/2023 16:28:46 INFO 140510013486912] Epoch[21] Batch [20]#011Speed: 192.743 samples/sec#011accuracy=0.953869\u001b[0m\n",
      "\u001b[34m[01/12/2023 16:28:48 INFO 140510013486912] Epoch[21] Train-accuracy=0.949597\u001b[0m\n",
      "\u001b[34m[01/12/2023 16:28:48 INFO 140510013486912] Epoch[21] Time cost=4.964\u001b[0m\n",
      "\u001b[34m[01/12/2023 16:28:48 INFO 140510013486912] Epoch[21] Validation-accuracy=0.875000\u001b[0m\n",
      "\u001b[34m[01/12/2023 16:28:49 INFO 140510013486912] Storing the best model with validation accuracy: 0.875000\u001b[0m\n",
      "\u001b[34m[01/12/2023 16:28:49 INFO 140510013486912] Saved checkpoint to \"/opt/ml/model/image-classification-0022.params\"\u001b[0m\n",
      "\u001b[34m[01/12/2023 16:28:52 INFO 140510013486912] Epoch[22] Batch [20]#011Speed: 192.531 samples/sec#011accuracy=0.964286\u001b[0m\n",
      "\u001b[34m[01/12/2023 16:28:54 INFO 140510013486912] Epoch[22] Train-accuracy=0.956653\u001b[0m\n",
      "\u001b[34m[01/12/2023 16:28:54 INFO 140510013486912] Epoch[22] Time cost=4.981\u001b[0m\n",
      "\u001b[34m[01/12/2023 16:28:54 INFO 140510013486912] Epoch[22] Validation-accuracy=0.859375\u001b[0m\n",
      "\u001b[34m[01/12/2023 16:28:58 INFO 140510013486912] Epoch[23] Batch [20]#011Speed: 191.096 samples/sec#011accuracy=0.956845\u001b[0m\n",
      "\u001b[34m[01/12/2023 16:29:00 INFO 140510013486912] Epoch[23] Train-accuracy=0.948589\u001b[0m\n",
      "\u001b[34m[01/12/2023 16:29:00 INFO 140510013486912] Epoch[23] Time cost=4.976\u001b[0m\n",
      "\u001b[34m[01/12/2023 16:29:00 INFO 140510013486912] Epoch[23] Validation-accuracy=0.848214\u001b[0m\n",
      "\u001b[34m[01/12/2023 16:29:04 INFO 140510013486912] Epoch[24] Batch [20]#011Speed: 186.668 samples/sec#011accuracy=0.959821\u001b[0m\n",
      "\u001b[34m[01/12/2023 16:29:06 INFO 140510013486912] Epoch[24] Train-accuracy=0.962702\u001b[0m\n",
      "\u001b[34m[01/12/2023 16:29:06 INFO 140510013486912] Epoch[24] Time cost=5.076\u001b[0m\n",
      "\u001b[34m[01/12/2023 16:29:07 INFO 140510013486912] Epoch[24] Validation-accuracy=0.875000\u001b[0m\n",
      "\u001b[34m[01/12/2023 16:29:10 INFO 140510013486912] Epoch[25] Batch [20]#011Speed: 192.549 samples/sec#011accuracy=0.952381\u001b[0m\n",
      "\u001b[34m[01/12/2023 16:29:12 INFO 140510013486912] Epoch[25] Train-accuracy=0.955645\u001b[0m\n",
      "\u001b[34m[01/12/2023 16:29:12 INFO 140510013486912] Epoch[25] Time cost=4.976\u001b[0m\n",
      "\u001b[34m[01/12/2023 16:29:13 INFO 140510013486912] Epoch[25] Validation-accuracy=0.796875\u001b[0m\n",
      "\u001b[34m[01/12/2023 16:29:16 INFO 140510013486912] Epoch[26] Batch [20]#011Speed: 190.393 samples/sec#011accuracy=0.940476\u001b[0m\n",
      "\u001b[34m[01/12/2023 16:29:18 INFO 140510013486912] Epoch[26] Train-accuracy=0.952621\u001b[0m\n",
      "\u001b[34m[01/12/2023 16:29:18 INFO 140510013486912] Epoch[26] Time cost=5.002\u001b[0m\n",
      "\u001b[34m[01/12/2023 16:29:19 INFO 140510013486912] Epoch[26] Validation-accuracy=0.854167\u001b[0m\n",
      "\u001b[34m[01/12/2023 16:29:23 INFO 140510013486912] Epoch[27] Batch [20]#011Speed: 188.057 samples/sec#011accuracy=0.991071\u001b[0m\n",
      "\u001b[34m[01/12/2023 16:29:24 INFO 140510013486912] Epoch[27] Train-accuracy=0.984879\u001b[0m\n",
      "\u001b[34m[01/12/2023 16:29:24 INFO 140510013486912] Epoch[27] Time cost=5.049\u001b[0m\n",
      "\u001b[34m[01/12/2023 16:29:25 INFO 140510013486912] Epoch[27] Validation-accuracy=0.825893\u001b[0m\n",
      "\u001b[34m[01/12/2023 16:29:29 INFO 140510013486912] Epoch[28] Batch [20]#011Speed: 187.004 samples/sec#011accuracy=0.986607\u001b[0m\n",
      "\u001b[34m[01/12/2023 16:29:30 INFO 140510013486912] Epoch[28] Train-accuracy=0.985887\u001b[0m\n",
      "\u001b[34m[01/12/2023 16:29:30 INFO 140510013486912] Epoch[28] Time cost=5.071\u001b[0m\n",
      "\u001b[34m[01/12/2023 16:29:31 INFO 140510013486912] Epoch[28] Validation-accuracy=0.864583\u001b[0m\n",
      "\u001b[34m[01/12/2023 16:29:35 INFO 140510013486912] Epoch[29] Batch [20]#011Speed: 190.978 samples/sec#011accuracy=0.988095\u001b[0m\n",
      "\u001b[34m[01/12/2023 16:29:36 INFO 140510013486912] Epoch[29] Train-accuracy=0.984879\u001b[0m\n",
      "\u001b[34m[01/12/2023 16:29:36 INFO 140510013486912] Epoch[29] Time cost=5.001\u001b[0m\n",
      "\u001b[34m[01/12/2023 16:29:37 INFO 140510013486912] Epoch[29] Validation-accuracy=0.848958\u001b[0m\n",
      "\n",
      "2023-01-12 16:30:08 Uploading - Uploading generated training model\n",
      "2023-01-12 16:30:28 Completed - Training job completed\n",
      "Training seconds: 438\n",
      "Billable seconds: 438\n"
     ]
    }
   ],
   "source": [
    "## TODO: train your model\n",
    "img_classifier_model.fit(inputs=model_inputs)"
   ]
  },
  {
   "cell_type": "markdown",
   "metadata": {},
   "source": [
    "If all goes well, you'll end up with a model topping out above `.8` validation accuracy. With only 1000 training samples in the CIFAR dataset, that's pretty good. We could definitely pursue data augmentation & gathering more samples to help us improve further, but for now let's proceed to deploy our model.\n",
    "\n",
    "### Getting ready to deploy\n",
    "\n",
    "To begin with, let's configure Model Monitor to track our deployment. We'll define a `DataCaptureConfig` below:"
   ]
  },
  {
   "cell_type": "code",
   "execution_count": 129,
   "metadata": {},
   "outputs": [],
   "source": [
    "from sagemaker.model_monitor import DataCaptureConfig\n",
    "\n",
    "data_capture_config = DataCaptureConfig(\n",
    "    ## TODO: Set config options\n",
    "    enable_capture=True,\n",
    "    sampling_percentage=100,\n",
    "    destination_s3_uri=f\"s3://{bucket}/data_capture\"\n",
    "    \n",
    ")"
   ]
  },
  {
   "cell_type": "markdown",
   "metadata": {},
   "source": [
    "Note the `destination_s3_uri` parameter: At the end of the project, we can explore the `data_capture` directory in S3 to find crucial data about the inputs and outputs Model Monitor has observed on our model endpoint over time.\n",
    "\n",
    "With that done, deploy your model on a single `ml.m5.xlarge` instance with the data capture config attached:"
   ]
  },
  {
   "cell_type": "code",
   "execution_count": 130,
   "metadata": {},
   "outputs": [
    {
     "name": "stdout",
     "output_type": "stream",
     "text": [
      "----------!image-classification-2023-01-12-16-31-47-514\n"
     ]
    }
   ],
   "source": [
    "deployment = img_classifier_model.deploy(\n",
    "    ## TODO: fill in deployment options\n",
    "    initial_instance_count=1, \n",
    "    instance_type='ml.m5.xlarge',\n",
    "    data_capture_config=data_capture_config\n",
    "    )\n",
    "\n",
    "endpoint = deployment.endpoint_name\n",
    "print(endpoint)"
   ]
  },
  {
   "cell_type": "markdown",
   "metadata": {},
   "source": [
    "Note the endpoint name for later as well.\n",
    "\n",
    "Next, instantiate a Predictor:"
   ]
  },
  {
   "cell_type": "code",
   "execution_count": 28,
   "metadata": {},
   "outputs": [],
   "source": [
    "from sagemaker.predictor import Predictor\n",
    "predictor = Predictor(endpoint) ## TODO: fill in"
   ]
  },
  {
   "cell_type": "markdown",
   "metadata": {},
   "source": [
    "In the code snippet below we are going to prepare one of your saved images for prediction. Use the predictor to process the `payload`."
   ]
  },
  {
   "cell_type": "code",
   "execution_count": 29,
   "metadata": {},
   "outputs": [
    {
     "name": "stdout",
     "output_type": "stream",
     "text": [
      "b'[0.7451050877571106, 0.25489485263824463]'\n"
     ]
    }
   ],
   "source": [
    "from sagemaker.serializers import IdentitySerializer\n",
    "import base64\n",
    "\n",
    "predictor.serializer = IdentitySerializer(\"image/png\")\n",
    "with open(\"./test/bicycle_s_001789.png\", \"rb\") as f:\n",
    "    payload = f.read()\n",
    "\n",
    "    \n",
    "inference = predictor.predict(payload, initial_args={'ContentType': 'application/x-image'})\n",
    "\n",
    "print(inference) ## TODO: Process the payload with your predictor"
   ]
  },
  {
   "cell_type": "markdown",
   "metadata": {},
   "source": [
    "Your `inference` object is an array of two values, the predicted probability value for each of your classes (bicycle and motorcycle respectively.) So, for example, a value of `b'[0.91, 0.09]'` indicates the probability of being a bike is 91% and being a motorcycle is 9%."
   ]
  },
  {
   "cell_type": "code",
   "execution_count": 30,
   "metadata": {},
   "outputs": [
    {
     "name": "stdout",
     "output_type": "stream",
     "text": [
      "b'[0.7451050877571106, 0.25489485263824463]'\n"
     ]
    }
   ],
   "source": [
    "print(inference)"
   ]
  },
  {
   "cell_type": "code",
   "execution_count": 31,
   "metadata": {
    "tags": []
   },
   "outputs": [],
   "source": [
    "!mkdir my-sourcecode-function"
   ]
  },
  {
   "cell_type": "code",
   "execution_count": 32,
   "metadata": {
    "tags": []
   },
   "outputs": [],
   "source": [
    "!cd my-sourcecode-function"
   ]
  },
  {
   "cell_type": "code",
   "execution_count": 33,
   "metadata": {
    "tags": []
   },
   "outputs": [
    {
     "name": "stdout",
     "output_type": "stream",
     "text": [
      "image-classification.py\n"
     ]
    }
   ],
   "source": [
    "ls my-sourcecode-function/"
   ]
  },
  {
   "cell_type": "code",
   "execution_count": 119,
   "metadata": {
    "tags": []
   },
   "outputs": [
    {
     "name": "stdout",
     "output_type": "stream",
     "text": [
      "Keyring is skipped due to an exception: 'keyring.backends'\n",
      "\u001b[31mERROR: pip's dependency resolver does not currently take into account all the packages that are installed. This behaviour is the source of the following dependency conflicts.\n",
      "pytest-astropy 0.8.0 requires pytest-cov>=2.0, which is not installed.\n",
      "pytest-astropy 0.8.0 requires pytest-filter-subpackage>=0.1, which is not installed.\n",
      "conda 22.9.0 requires ruamel_yaml_conda>=0.11.14, which is not installed.\n",
      "sparkmagic 0.20.0 requires nest-asyncio==1.5.5, but you have nest-asyncio 1.5.6 which is incompatible.\n",
      "docker-compose 1.29.2 requires PyYAML<6,>=3.10, but you have pyyaml 6.0 which is incompatible.\n",
      "awscli 1.27.24 requires botocore==1.29.24, but you have botocore 1.29.47 which is incompatible.\n",
      "awscli 1.27.24 requires PyYAML<5.5,>=3.10, but you have pyyaml 6.0 which is incompatible.\n",
      "awscli 1.27.24 requires rsa<4.8,>=3.1.2, but you have rsa 4.9 which is incompatible.\n",
      "aiobotocore 2.4.1 requires botocore<1.27.60,>=1.27.59, but you have botocore 1.29.47 which is incompatible.\u001b[0m\u001b[31m\n",
      "\u001b[0m\u001b[33mWARNING: Running pip as the 'root' user can result in broken permissions and conflicting behaviour with the system package manager. It is recommended to use a virtual environment instead: https://pip.pypa.io/warnings/venv\u001b[0m\u001b[33m\n",
      "\u001b[0m"
     ]
    }
   ],
   "source": [
    "!pip install --target ./package --disable-pip-version-check -q sagemaker==2.35.0"
   ]
  },
  {
   "cell_type": "code",
   "execution_count": 69,
   "metadata": {
    "tags": []
   },
   "outputs": [
    {
     "name": "stdout",
     "output_type": "stream",
     "text": [
      "__pycache__\t\t\t     pathos\n",
      "_multiprocess\t\t\t     pathos-0.3.0.dist-info\n",
      "attr\t\t\t\t     pox\n",
      "attrs\t\t\t\t     pox-0.3.2.dist-info\n",
      "attrs-22.2.0.dist-info\t\t     pp\n",
      "bin\t\t\t\t     ppft\n",
      "boto3\t\t\t\t     ppft-1.7.6.6.dist-info\n",
      "boto3-1.26.46.dist-info\t\t     protobuf-3.20.3-py3.7-nspkg.pth\n",
      "botocore\t\t\t     protobuf-3.20.3.dist-info\n",
      "botocore-1.29.46.dist-info\t     protobuf3_to_dict-0.1.5.dist-info\n",
      "contextlib2\t\t\t     protobuf_to_dict.py\n",
      "contextlib2-21.6.0.dist-info\t     python_dateutil-2.8.2.dist-info\n",
      "dateutil\t\t\t     pytz\n",
      "dill\t\t\t\t     pytz-2022.7.dist-info\n",
      "dill-0.3.6.dist-info\t\t     s3transfer\n",
      "google\t\t\t\t     s3transfer-0.6.0.dist-info\n",
      "google_pasta-0.2.0.dist-info\t     sagemaker\n",
      "importlib_metadata\t\t     sagemaker-2.128.0.dist-info\n",
      "importlib_metadata-4.13.0.dist-info  schema-0.7.5.dist-info\n",
      "jmespath\t\t\t     schema.py\n",
      "jmespath-1.0.1.dist-info\t     six-1.16.0.dist-info\n",
      "multiprocess\t\t\t     six.py\n",
      "multiprocess-0.70.14.dist-info\t     smdebug_rulesconfig\n",
      "numpy\t\t\t\t     smdebug_rulesconfig-1.0.1.dist-info\n",
      "numpy-1.21.6.dist-info\t\t     tests\n",
      "numpy.libs\t\t\t     typing_extensions-4.4.0.dist-info\n",
      "packaging\t\t\t     typing_extensions.py\n",
      "packaging-23.0.dist-info\t     urllib3\n",
      "pandas\t\t\t\t     urllib3-1.26.13.dist-info\n",
      "pandas-1.3.5.dist-info\t\t     zipp\n",
      "pasta\t\t\t\t     zipp-3.11.0.dist-info\n"
     ]
    }
   ],
   "source": [
    "!cd package\n",
    "!ls package"
   ]
  },
  {
   "cell_type": "code",
   "execution_count": 64,
   "metadata": {
    "tags": []
   },
   "outputs": [
    {
     "name": "stdout",
     "output_type": "stream",
     "text": [
      "Collecting package metadata (current_repodata.json): done\n",
      "Solving environment: done\n",
      "\n",
      "\n",
      "==> WARNING: A newer version of conda exists. <==\n",
      "  current version: 22.9.0\n",
      "  latest version: 22.11.1\n",
      "\n",
      "Please update conda by running\n",
      "\n",
      "    $ conda update -n base -c conda-forge conda\n",
      "\n",
      "\n",
      "\n",
      "## Package Plan ##\n",
      "\n",
      "  environment location: /opt/conda\n",
      "\n",
      "  added / updated specs:\n",
      "    - zip\n",
      "\n",
      "\n",
      "The following packages will be downloaded:\n",
      "\n",
      "    package                    |            build\n",
      "    ---------------------------|-----------------\n",
      "    ca-certificates-2022.12.7  |       ha878542_0         143 KB  conda-forge\n",
      "    certifi-2022.12.7          |     pyhd8ed1ab_0         147 KB  conda-forge\n",
      "    zip-3.0                    |       h14c3975_1         116 KB  conda-forge\n",
      "    ------------------------------------------------------------\n",
      "                                           Total:         406 KB\n",
      "\n",
      "The following NEW packages will be INSTALLED:\n",
      "\n",
      "  zip                conda-forge/linux-64::zip-3.0-h14c3975_1 None\n",
      "\n",
      "The following packages will be UPDATED:\n",
      "\n",
      "  ca-certificates                      2022.9.24-ha878542_0 --> 2022.12.7-ha878542_0 None\n",
      "  certifi                            2022.9.24-pyhd8ed1ab_0 --> 2022.12.7-pyhd8ed1ab_0 None\n",
      "\n",
      "\n",
      "\n",
      "Downloading and Extracting Packages\n",
      "zip-3.0              | 116 KB    | ##################################### | 100% \n",
      "ca-certificates-2022 | 143 KB    | ##################################### | 100% \n",
      "certifi-2022.12.7    | 147 KB    | ##################################### | 100% \n",
      "Preparing transaction: done\n",
      "Verifying transaction: done\n",
      "Executing transaction: done\n",
      "Retrieving notices: ...working... done\n"
     ]
    }
   ],
   "source": [
    "!conda install -y -c conda-forge zip"
   ]
  },
  {
   "cell_type": "code",
   "execution_count": 120,
   "metadata": {
    "tags": []
   },
   "outputs": [
    {
     "name": "stdout",
     "output_type": "stream",
     "text": [
      "/root/udacity-nd009t-C2-Developing-ML-Workflow/project/package\n"
     ]
    }
   ],
   "source": [
    "%cd package\n",
    "!zip -q -r ../my-deployment-package.zip ."
   ]
  },
  {
   "cell_type": "code",
   "execution_count": 121,
   "metadata": {
    "tags": []
   },
   "outputs": [
    {
     "name": "stdout",
     "output_type": "stream",
     "text": [
      "/root/udacity-nd009t-C2-Developing-ML-Workflow/project\n",
      "  adding: lambda_function.py (deflated 48%)\n"
     ]
    }
   ],
   "source": [
    "%cd ..\n",
    "!zip my-deployment-package.zip lambda_function.py"
   ]
  },
  {
   "cell_type": "code",
   "execution_count": 122,
   "metadata": {
    "tags": []
   },
   "outputs": [],
   "source": [
    "boto3.Session().resource('s3').Bucket(\n",
    "    bucket).Object('deployment-package/my-deployment-package.zip').upload_file('./my-deployment-package.zip')"
   ]
  },
  {
   "cell_type": "markdown",
   "metadata": {},
   "source": [
    "### Draft Lambdas and Step Function Workflow\n",
    "\n",
    "Your operations team uses Step Functions to orchestrate serverless workflows. One of the nice things about Step Functions is that [workflows can call other workflows](https://docs.aws.amazon.com/step-functions/latest/dg/connect-stepfunctions.html), so the team can easily plug your workflow into the broader production architecture for Scones Unlimited.\n",
    "\n",
    "In this next stage you're going to write and deploy three Lambda functions, and then use the Step Functions visual editor to chain them together! Our functions are going to work with a simple data object:\n",
    "\n",
    "```python\n",
    "{\n",
    "    \"inferences\": [], # Output of predictor.predict\n",
    "    \"s3_key\": \"\", # Source data S3 key\n",
    "    \"s3_bucket\": \"\", # Source data S3 bucket\n",
    "    \"image_data\": \"\"  # base64 encoded string containing the image data\n",
    "}\n",
    "```\n",
    "\n",
    "A good test object that you can use for Lambda tests and Step Function executions, throughout the next section, might look like this:\n",
    "\n",
    "```python\n",
    "{\n",
    "  \"image_data\": \"\",\n",
    "  \"s3_bucket\": MY_BUCKET_NAME, # Fill in with your bucket\n",
    "  \"s3_key\": \"test/bicycle_s_000513.png\"\n",
    "}\n",
    "```\n",
    "\n",
    "Using these fields, your functions can read and write the necessary data to execute your workflow. Let's start with the first function. Your first Lambda function will copy an object from S3, base64 encode it, and then return it to the step function as `image_data` in an event.\n",
    "\n",
    "Go to the Lambda dashboard and create a new Lambda function with a descriptive name like \"serializeImageData\" and select thr 'Python 3.8' runtime. Add the same permissions as the SageMaker role you created earlier. (Reminder: you do this in the Configuration tab under \"Permissions\"). Once you're ready, use the starter code below to craft your Lambda handler:\n",
    "\n",
    "```python\n",
    "import json\n",
    "import boto3\n",
    "import base64\n",
    "\n",
    "s3 = boto3.client('s3')\n",
    "\n",
    "def lambda_handler(event, context):\n",
    "    \"\"\"A function to serialize target data from S3\"\"\"\n",
    "    \n",
    "    # Get the s3 address from the Step Function event input\n",
    "    key = ## TODO: fill in\n",
    "    bucket = ## TODO: fill in\n",
    "    \n",
    "    # Download the data from s3 to /tmp/image.png\n",
    "    ## TODO: fill in\n",
    "    \n",
    "    # We read the data from a file\n",
    "    with open(\"/tmp/image.png\", \"rb\") as f:\n",
    "        image_data = base64.b64encode(f.read())\n",
    "\n",
    "    # Pass the data back to the Step Function\n",
    "    print(\"Event:\", event.keys())\n",
    "    return {\n",
    "        'statusCode': 200,\n",
    "        'body': {\n",
    "            \"image_data\": image_data,\n",
    "            \"s3_bucket\": bucket,\n",
    "            \"s3_key\": key,\n",
    "            \"inferences\": []\n",
    "        }\n",
    "    }\n",
    "```\n",
    "\n",
    "The next function is responsible for the classification part - we're going to take the image output from the previous function, decode it, and then pass inferences back to the the Step Function.\n",
    "\n",
    "Because this Lambda will have runtime dependencies (i.e. the SageMaker SDK) you'll need to package them in your function. *Key reading:* https://docs.aws.amazon.com/lambda/latest/dg/python-package-create.html#python-package-create-with-dependency\n",
    "\n",
    "Create a new Lambda function with the same rights and a descriptive name, then fill in the starter code below for your classifier Lambda.\n",
    "\n",
    "```python\n",
    "import json\n",
    "import sagemaker\n",
    "import base64\n",
    "from sagemaker.serializers import IdentitySerializer\n",
    "\n",
    "# Fill this in with the name of your deployed model\n",
    "ENDPOINT = ## TODO: fill in\n",
    "\n",
    "def lambda_handler(event, context):\n",
    "\n",
    "    # Decode the image data\n",
    "    image = base64.b64decode(## TODO: fill in)\n",
    "\n",
    "    # Instantiate a Predictor\n",
    "    predictor = ## TODO: fill in\n",
    "\n",
    "    # For this model the IdentitySerializer needs to be \"image/png\"\n",
    "    predictor.serializer = IdentitySerializer(\"image/png\")\n",
    "    \n",
    "    # Make a prediction:\n",
    "    inferences = ## TODO: fill in\n",
    "    \n",
    "    # We return the data back to the Step Function    \n",
    "    event[\"inferences\"] = inferences.decode('utf-8')\n",
    "    return {\n",
    "        'statusCode': 200,\n",
    "        'body': json.dumps(event)\n",
    "    }\n",
    "```\n",
    "\n",
    "Finally, we need to filter low-confidence inferences. Define a threshold between 1.00 and 0.000 for your model: what is reasonble for you? If the model predicts at `.70` for it's highest confidence label, do we want to pass that inference along to downstream systems? Make one last Lambda function and tee up the same permissions:\n",
    "\n",
    "```python\n",
    "import json\n",
    "\n",
    "\n",
    "THRESHOLD = .93\n",
    "\n",
    "\n",
    "def lambda_handler(event, context):\n",
    "    \n",
    "    # Grab the inferences from the event\n",
    "    inferences = ## TODO: fill in\n",
    "    \n",
    "    # Check if any values in our inferences are above THRESHOLD\n",
    "    meets_threshold = ## TODO: fill in\n",
    "    \n",
    "    # If our threshold is met, pass our data back out of the\n",
    "    # Step Function, else, end the Step Function with an error\n",
    "    if meets_threshold:\n",
    "        pass\n",
    "    else:\n",
    "        raise(\"THRESHOLD_CONFIDENCE_NOT_MET\")\n",
    "\n",
    "    return {\n",
    "        'statusCode': 200,\n",
    "        'body': json.dumps(event)\n",
    "    }\n",
    "```\n",
    "Once you have tested the lambda functions, save the code for each lambda function in a python script called 'lambda.py'.\n",
    "\n",
    "With your lambdas in place, you can use the Step Functions visual editor to construct a workflow that chains them together. In the Step Functions console you'll have the option to author a Standard step function *Visually*.\n",
    "\n",
    "When the visual editor opens, you'll have many options to add transitions in your workflow. We're going to keep it simple and have just one: to invoke Lambda functions. Add three of them chained together. For each one, you'll be able to select the Lambda functions you just created in the proper order, filter inputs and outputs, and give them descriptive names.\n",
    "\n",
    "Make sure that you:\n",
    "\n",
    "1. Are properly filtering the inputs and outputs of your invokations (e.g. `$.body`)\n",
    "2. Take care to remove the error handling from the last function - it's supposed to \"fail loudly\" for your operations colleagues!\n",
    "\n",
    "Take a screenshot of your working step function in action and export the step function as JSON for your submission package."
   ]
  },
  {
   "cell_type": "markdown",
   "metadata": {},
   "source": [
    "\n",
    "Great! Now you can use the files in `./test` as test files for our workflow. Depending on our threshold, our workflow should reliably pass predictions about images from `./test` on to downstream systems, while erroring out for inferences below our confidence threshold!\n",
    "\n",
    "### Testing and Evaluation\n",
    "\n",
    "Do several step function invokations using data from the `./test` folder. This process should give you confidence that the workflow both *succeeds* AND *fails* as expected. In addition, SageMaker Model Monitor will generate recordings of your data and inferences which we can visualize.\n",
    "\n",
    "Here's a function that can help you generate test inputs for your invokations:"
   ]
  },
  {
   "cell_type": "code",
   "execution_count": 139,
   "metadata": {},
   "outputs": [
    {
     "data": {
      "text/plain": [
       "'{\"image_data\": \"\", \"s3_bucket\": \"sagemaker-us-east-1-128404087512\", \"s3_key\": \"test/motorcycle_s_000485.png\"}'"
      ]
     },
     "execution_count": 139,
     "metadata": {},
     "output_type": "execute_result"
    }
   ],
   "source": [
    "import random\n",
    "import boto3\n",
    "import json\n",
    "\n",
    "\n",
    "def generate_test_case():\n",
    "    # Setup s3 in boto3\n",
    "    s3 = boto3.resource('s3')\n",
    "    \n",
    "    # Randomly pick from sfn or test folders in our bucket\n",
    "    objects = s3.Bucket(bucket).objects.filter(Prefix=\"test/\")\n",
    "    \n",
    "    # Grab any random object key from that folder!\n",
    "    obj = random.choice([x.key for x in objects])\n",
    "    \n",
    "    return json.dumps({\n",
    "        \"image_data\": \"\",\n",
    "        \"s3_bucket\": bucket,\n",
    "        \"s3_key\": obj\n",
    "    })\n",
    "generate_test_case()"
   ]
  },
  {
   "cell_type": "markdown",
   "metadata": {},
   "source": [
    "In the Step Function dashboard for your new function, you can create new executions and copy in the generated test cases. Do several executions so that you can generate data you can evaluate and visualize.\n",
    "\n",
    "Once you've done several executions, let's visualize the record of our inferences. Pull in the JSONLines data from your inferences like so:"
   ]
  },
  {
   "cell_type": "code",
   "execution_count": 142,
   "metadata": {},
   "outputs": [],
   "source": [
    "from sagemaker.s3 import S3Downloader\n",
    "\n",
    "# In S3 your data will be saved to a datetime-aware path\n",
    "# Find a path related to a datetime you're interested in\n",
    "s3_uri = \"s3://sagemaker-us-east-1-128404087512/data_capture/image-classification-2023-01-12-16-31-47-514/AllTraffic/2023/01/12/19/\"\n",
    "data_path = \"captured_data\"## TODO: fill in the path to your captured data\n",
    "\n",
    "S3Downloader.download(s3_uri,data_path)\n",
    "\n",
    "# Feel free to repeat this multiple times and pull in more data"
   ]
  },
  {
   "cell_type": "markdown",
   "metadata": {},
   "source": [
    "The data are in JSONLines format, where multiple valid JSON objects are stacked on top of eachother in a single `jsonl` file. We'll import an open-source library, `jsonlines` that was purpose built for parsing this format."
   ]
  },
  {
   "cell_type": "code",
   "execution_count": 143,
   "metadata": {},
   "outputs": [
    {
     "name": "stdout",
     "output_type": "stream",
     "text": [
      "Keyring is skipped due to an exception: 'keyring.backends'\n",
      "Collecting jsonlines\n",
      "  Downloading jsonlines-3.1.0-py3-none-any.whl (8.6 kB)\n",
      "Requirement already satisfied: typing-extensions in /opt/conda/lib/python3.7/site-packages (from jsonlines) (4.4.0)\n",
      "Requirement already satisfied: attrs>=19.2.0 in /opt/conda/lib/python3.7/site-packages (from jsonlines) (22.1.0)\n",
      "Installing collected packages: jsonlines\n",
      "Successfully installed jsonlines-3.1.0\n",
      "\u001b[33mWARNING: Running pip as the 'root' user can result in broken permissions and conflicting behaviour with the system package manager. It is recommended to use a virtual environment instead: https://pip.pypa.io/warnings/venv\u001b[0m\u001b[33m\n",
      "\u001b[0m"
     ]
    }
   ],
   "source": [
    "!pip install jsonlines\n",
    "import jsonlines"
   ]
  },
  {
   "cell_type": "markdown",
   "metadata": {},
   "source": [
    "Now we can extract the data from each of the source files:"
   ]
  },
  {
   "cell_type": "code",
   "execution_count": 144,
   "metadata": {},
   "outputs": [],
   "source": [
    "import os\n",
    "\n",
    "# List the file names we downloaded\n",
    "file_handles = os.listdir(\"./captured_data\")\n",
    "\n",
    "# Dump all the data into an array\n",
    "json_data = []\n",
    "for jsonl in file_handles:\n",
    "    with jsonlines.open(f\"./captured_data/{jsonl}\") as f:\n",
    "        json_data.append(f.read())"
   ]
  },
  {
   "cell_type": "markdown",
   "metadata": {},
   "source": [
    "The data should now be a list of dictionaries, with significant nesting. We'll give you an example of some code that grabs data out of the objects and visualizes it:"
   ]
  },
  {
   "cell_type": "code",
   "execution_count": 153,
   "metadata": {},
   "outputs": [
    {
     "data": {
      "text/plain": [
       "([0.5133525133132935, 0.48664745688438416], '2023-01-12T19:48:49Z')"
      ]
     },
     "execution_count": 153,
     "metadata": {},
     "output_type": "execute_result"
    }
   ],
   "source": [
    "# Define how we'll get our data\n",
    "def simple_getter(obj):\n",
    "    inferences = obj[\"captureData\"][\"endpointOutput\"][\"data\"]\n",
    "    timestamp = obj[\"eventMetadata\"][\"inferenceTime\"]\n",
    "    return json.loads(inferences), timestamp\n",
    "\n",
    "simple_getter(json_data[7])"
   ]
  },
  {
   "cell_type": "markdown",
   "metadata": {},
   "source": [
    "Finally, here's an example of a visualization you can build with this data. In this last part, you will take some time and build your own - the captured data has the input images, the resulting inferences, and the timestamps."
   ]
  },
  {
   "cell_type": "code",
   "execution_count": 154,
   "metadata": {},
   "outputs": [
    {
     "data": {
      "image/png": "[encoded data removed]",
      "text/plain": [
       "<Figure size 640x480 with 1 Axes>"
      ]
     },
     "metadata": {},
     "output_type": "display_data"
    }
   ],
   "source": [
    "# Populate the data for the x and y axis\n",
    "import matplotlib.pyplot as plt\n",
    "%matplotlib inline\n",
    "x = []\n",
    "y = []\n",
    "for obj in json_data:\n",
    "    inference, timestamp = simple_getter(obj)\n",
    "    \n",
    "    y.append(max(inference))\n",
    "    x.append(timestamp)\n",
    "\n",
    "# Todo: here is an visualization example, take some time to build another visual that helps monitor the result\n",
    "# Plot the data\n",
    "plt.scatter(x, y, c=['r' if k<.94 else 'b' for k in y ])\n",
    "plt.axhline(y=0.94, color='g', linestyle='--')\n",
    "plt.ylim(bottom=.4)\n",
    "\n",
    "# Add labels\n",
    "plt.ylabel(\"Confidence\")\n",
    "plt.suptitle(\"Observed Recent Inferences\", size=14)\n",
    "plt.title(\"Pictured with confidence threshold for production use\", size=10)\n",
    "\n",
    "# Give it some pizzaz!\n",
    "plt.style.use(\"Solarize_Light2\")\n",
    "plt.gcf().autofmt_xdate()"
   ]
  },
  {
   "cell_type": "code",
   "execution_count": null,
   "metadata": {},
   "outputs": [],
   "source": []
  },
  {
   "cell_type": "markdown",
   "metadata": {},
   "source": [
    "### Todo: build your own visualization\n"
   ]
  },
  {
   "cell_type": "markdown",
   "metadata": {},
   "source": [
    "### Congratulations!\n",
    "\n",
    "You've reached the end of the project. In this project you created an event-drivent ML workflow that can be incorporated into the Scones Unlimited production architecture. You used the SageMaker Estimator API to deploy your SageMaker Model and Endpoint, and you used AWS Lambda and Step Functions to orchestrate your ML workflow. Using SageMaker Model Monitor, you instrumented and observed your Endpoint, and at the end of the project you built a visualization to help stakeholders understand the performance of the Endpoint over time. If you're up for it, you can even go further with these stretch goals:\n",
    "\n",
    "* Extend your workflow to incorporate more classes: the CIFAR dataset includes other vehicles that Scones Unlimited can identify with this model.\n",
    "* Modify your event driven workflow: can you rewrite your Lambda functions so that the workflow can process multiple image inputs in parallel? Can the Step Function \"fan out\" to accomodate this new workflow?\n",
    "* Consider the test data generator we provided for you. Can we use it to create a \"dummy data\" generator, to simulate a continuous stream of input data? Or a big paralell load of data?\n",
    "* What if we want to get notified every time our step function errors out? Can we use the Step Functions visual editor in conjunction with a service like SNS to accomplish this? Try it out!\n",
    "\n",
    "\n"
   ]
  }
 ],
 "metadata": {
  "instance_type": "ml.t3.medium",
  "kernelspec": {
   "display_name": "Python 3 (Data Science)",
   "language": "python",
   "name": "python3__SAGEMAKER_INTERNAL__arn:aws:sagemaker:us-east-1:081325390199:image/datascience-1.0"
  },
  "language_info": {
   "codemirror_mode": {
    "name": "ipython",
    "version": 3
   },
   "file_extension": ".py",
   "mimetype": "text/x-python",
   "name": "python",
   "nbconvert_exporter": "python",
   "pygments_lexer": "ipython3",
   "version": "3.7.10"
  }
 },
 "nbformat": 4,
 "nbformat_minor": 4
}
